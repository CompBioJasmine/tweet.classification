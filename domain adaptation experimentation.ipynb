{
 "cells": [
  {
   "cell_type": "code",
   "execution_count": 1,
   "metadata": {},
   "outputs": [
    {
     "data": {
      "text/html": [
       "<div>\n",
       "<style>\n",
       "    .dataframe thead tr:only-child th {\n",
       "        text-align: right;\n",
       "    }\n",
       "\n",
       "    .dataframe thead th {\n",
       "        text-align: left;\n",
       "    }\n",
       "\n",
       "    .dataframe tbody tr th {\n",
       "        vertical-align: top;\n",
       "    }\n",
       "</style>\n",
       "<table border=\"1\" class=\"dataframe\">\n",
       "  <thead>\n",
       "    <tr style=\"text-align: right;\">\n",
       "      <th></th>\n",
       "      <th>0</th>\n",
       "      <th>1</th>\n",
       "      <th>2</th>\n",
       "      <th>3</th>\n",
       "      <th>4</th>\n",
       "      <th>5</th>\n",
       "      <th>6</th>\n",
       "      <th>7</th>\n",
       "      <th>8</th>\n",
       "      <th>9</th>\n",
       "      <th>10</th>\n",
       "      <th>11</th>\n",
       "    </tr>\n",
       "  </thead>\n",
       "  <tbody>\n",
       "    <tr>\n",
       "      <th>0</th>\n",
       "      <td>0</td>\n",
       "      <td>274586346239164416</td>\n",
       "      <td>@avalenc this was a tetanus vaccine too! I tol...</td>\n",
       "      <td>0.8597</td>\n",
       "      <td>negative</td>\n",
       "      <td>2012-11-30</td>\n",
       "      <td>South San Francisco</td>\n",
       "      <td>San Mateo County</td>\n",
       "      <td>California</td>\n",
       "      <td>United States</td>\n",
       "      <td>F</td>\n",
       "      <td>0.555259</td>\n",
       "    </tr>\n",
       "    <tr>\n",
       "      <th>1</th>\n",
       "      <td>1</td>\n",
       "      <td>273088776564244482</td>\n",
       "      <td>@nancyholtzman flu shots for 6MO + mom? and ho...</td>\n",
       "      <td>0.0508</td>\n",
       "      <td>negative</td>\n",
       "      <td>2012-11-26</td>\n",
       "      <td>Cincinnati</td>\n",
       "      <td>Hamilton County</td>\n",
       "      <td>Ohio</td>\n",
       "      <td>United States</td>\n",
       "      <td>F</td>\n",
       "      <td>0.025630</td>\n",
       "    </tr>\n",
       "    <tr>\n",
       "      <th>2</th>\n",
       "      <td>2</td>\n",
       "      <td>279187527167000576</td>\n",
       "      <td>I'm wondering why we all got flu shots since m...</td>\n",
       "      <td>0.5721</td>\n",
       "      <td>negative</td>\n",
       "      <td>2012-12-13</td>\n",
       "      <td>x</td>\n",
       "      <td>x</td>\n",
       "      <td>x</td>\n",
       "      <td>x</td>\n",
       "      <td>M</td>\n",
       "      <td>0.623470</td>\n",
       "    </tr>\n",
       "    <tr>\n",
       "      <th>3</th>\n",
       "      <td>3</td>\n",
       "      <td>279187825801441280</td>\n",
       "      <td>Use the Flu Vaccine Finder to find a flu vacci...</td>\n",
       "      <td>0.0014</td>\n",
       "      <td>negative</td>\n",
       "      <td>2012-12-13</td>\n",
       "      <td>Asheville</td>\n",
       "      <td>Buncombe County</td>\n",
       "      <td>North Carolina</td>\n",
       "      <td>United States</td>\n",
       "      <td>M</td>\n",
       "      <td>0.008960</td>\n",
       "    </tr>\n",
       "    <tr>\n",
       "      <th>4</th>\n",
       "      <td>4</td>\n",
       "      <td>279188167368781825</td>\n",
       "      <td>Cool, today's only Thursday and I have to get ...</td>\n",
       "      <td>0.9978</td>\n",
       "      <td>negative</td>\n",
       "      <td>2012-12-13</td>\n",
       "      <td>x</td>\n",
       "      <td>x</td>\n",
       "      <td>x</td>\n",
       "      <td>x</td>\n",
       "      <td>M</td>\n",
       "      <td>0.966922</td>\n",
       "    </tr>\n",
       "  </tbody>\n",
       "</table>\n",
       "</div>"
      ],
      "text/plain": [
       "   0                   1                                                  2   \\\n",
       "0   0  274586346239164416  @avalenc this was a tetanus vaccine too! I tol...   \n",
       "1   1  273088776564244482  @nancyholtzman flu shots for 6MO + mom? and ho...   \n",
       "2   2  279187527167000576  I'm wondering why we all got flu shots since m...   \n",
       "3   3  279187825801441280  Use the Flu Vaccine Finder to find a flu vacci...   \n",
       "4   4  279188167368781825  Cool, today's only Thursday and I have to get ...   \n",
       "\n",
       "       3         4           5                    6                 7   \\\n",
       "0  0.8597  negative  2012-11-30  South San Francisco  San Mateo County   \n",
       "1  0.0508  negative  2012-11-26           Cincinnati   Hamilton County   \n",
       "2  0.5721  negative  2012-12-13                    x                 x   \n",
       "3  0.0014  negative  2012-12-13            Asheville   Buncombe County   \n",
       "4  0.9978  negative  2012-12-13                    x                 x   \n",
       "\n",
       "               8              9  10        11  \n",
       "0      California  United States  F  0.555259  \n",
       "1            Ohio  United States  F  0.025630  \n",
       "2               x              x  M  0.623470  \n",
       "3  North Carolina  United States  M  0.008960  \n",
       "4               x              x  M  0.966922  "
      ]
     },
     "execution_count": 1,
     "metadata": {},
     "output_type": "execute_result"
    }
   ],
   "source": [
    "import pandas as pd\n",
    "import numpy as np\n",
    "\n",
    "df = pd.read_table('~/Downloads/INFO_4604/all_tweets_withprobabilities.csv', sep=',', header=None)\n",
    "\n",
    "df.head()"
   ]
  },
  {
   "cell_type": "code",
   "execution_count": 2,
   "metadata": {},
   "outputs": [
    {
     "data": {
      "text/html": [
       "<div>\n",
       "<style>\n",
       "    .dataframe thead tr:only-child th {\n",
       "        text-align: right;\n",
       "    }\n",
       "\n",
       "    .dataframe thead th {\n",
       "        text-align: left;\n",
       "    }\n",
       "\n",
       "    .dataframe tbody tr th {\n",
       "        vertical-align: top;\n",
       "    }\n",
       "</style>\n",
       "<table border=\"1\" class=\"dataframe\">\n",
       "  <thead>\n",
       "    <tr style=\"text-align: right;\">\n",
       "      <th></th>\n",
       "      <th>1</th>\n",
       "      <th>2</th>\n",
       "      <th>5</th>\n",
       "    </tr>\n",
       "  </thead>\n",
       "  <tbody>\n",
       "    <tr>\n",
       "      <th>0</th>\n",
       "      <td>274586346239164416</td>\n",
       "      <td>@avalenc this was a tetanus vaccine too! I tol...</td>\n",
       "      <td>2012-11-30</td>\n",
       "    </tr>\n",
       "    <tr>\n",
       "      <th>1</th>\n",
       "      <td>273088776564244482</td>\n",
       "      <td>@nancyholtzman flu shots for 6MO + mom? and ho...</td>\n",
       "      <td>2012-11-26</td>\n",
       "    </tr>\n",
       "    <tr>\n",
       "      <th>2</th>\n",
       "      <td>279187527167000576</td>\n",
       "      <td>I'm wondering why we all got flu shots since m...</td>\n",
       "      <td>2012-12-13</td>\n",
       "    </tr>\n",
       "    <tr>\n",
       "      <th>3</th>\n",
       "      <td>279187825801441280</td>\n",
       "      <td>Use the Flu Vaccine Finder to find a flu vacci...</td>\n",
       "      <td>2012-12-13</td>\n",
       "    </tr>\n",
       "    <tr>\n",
       "      <th>4</th>\n",
       "      <td>279188167368781825</td>\n",
       "      <td>Cool, today's only Thursday and I have to get ...</td>\n",
       "      <td>2012-12-13</td>\n",
       "    </tr>\n",
       "  </tbody>\n",
       "</table>\n",
       "</div>"
      ],
      "text/plain": [
       "                    1                                                  2  \\\n",
       "0  274586346239164416  @avalenc this was a tetanus vaccine too! I tol...   \n",
       "1  273088776564244482  @nancyholtzman flu shots for 6MO + mom? and ho...   \n",
       "2  279187527167000576  I'm wondering why we all got flu shots since m...   \n",
       "3  279187825801441280  Use the Flu Vaccine Finder to find a flu vacci...   \n",
       "4  279188167368781825  Cool, today's only Thursday and I have to get ...   \n",
       "\n",
       "            5  \n",
       "0  2012-11-30  \n",
       "1  2012-11-26  \n",
       "2  2012-12-13  \n",
       "3  2012-12-13  \n",
       "4  2012-12-13  "
      ]
     },
     "execution_count": 2,
     "metadata": {},
     "output_type": "execute_result"
    }
   ],
   "source": [
    "df2 = df.loc[:,[1,2,5]]\n",
    "\n",
    "df2.head()"
   ]
  },
  {
   "cell_type": "code",
   "execution_count": 3,
   "metadata": {},
   "outputs": [
    {
     "data": {
      "text/html": [
       "<div>\n",
       "<style>\n",
       "    .dataframe thead tr:only-child th {\n",
       "        text-align: right;\n",
       "    }\n",
       "\n",
       "    .dataframe thead th {\n",
       "        text-align: left;\n",
       "    }\n",
       "\n",
       "    .dataframe tbody tr th {\n",
       "        vertical-align: top;\n",
       "    }\n",
       "</style>\n",
       "<table border=\"1\" class=\"dataframe\">\n",
       "  <thead>\n",
       "    <tr style=\"text-align: right;\">\n",
       "      <th></th>\n",
       "      <th>ID</th>\n",
       "      <th>Text</th>\n",
       "      <th>Date</th>\n",
       "    </tr>\n",
       "  </thead>\n",
       "  <tbody>\n",
       "    <tr>\n",
       "      <th>0</th>\n",
       "      <td>274586346239164416</td>\n",
       "      <td>@avalenc this was a tetanus vaccine too! I tol...</td>\n",
       "      <td>2012-11-30</td>\n",
       "    </tr>\n",
       "    <tr>\n",
       "      <th>1</th>\n",
       "      <td>273088776564244482</td>\n",
       "      <td>@nancyholtzman flu shots for 6MO + mom? and ho...</td>\n",
       "      <td>2012-11-26</td>\n",
       "    </tr>\n",
       "    <tr>\n",
       "      <th>2</th>\n",
       "      <td>279187527167000576</td>\n",
       "      <td>I'm wondering why we all got flu shots since m...</td>\n",
       "      <td>2012-12-13</td>\n",
       "    </tr>\n",
       "    <tr>\n",
       "      <th>3</th>\n",
       "      <td>279187825801441280</td>\n",
       "      <td>Use the Flu Vaccine Finder to find a flu vacci...</td>\n",
       "      <td>2012-12-13</td>\n",
       "    </tr>\n",
       "    <tr>\n",
       "      <th>4</th>\n",
       "      <td>279188167368781825</td>\n",
       "      <td>Cool, today's only Thursday and I have to get ...</td>\n",
       "      <td>2012-12-13</td>\n",
       "    </tr>\n",
       "  </tbody>\n",
       "</table>\n",
       "</div>"
      ],
      "text/plain": [
       "                   ID                                               Text  \\\n",
       "0  274586346239164416  @avalenc this was a tetanus vaccine too! I tol...   \n",
       "1  273088776564244482  @nancyholtzman flu shots for 6MO + mom? and ho...   \n",
       "2  279187527167000576  I'm wondering why we all got flu shots since m...   \n",
       "3  279187825801441280  Use the Flu Vaccine Finder to find a flu vacci...   \n",
       "4  279188167368781825  Cool, today's only Thursday and I have to get ...   \n",
       "\n",
       "         Date  \n",
       "0  2012-11-30  \n",
       "1  2012-11-26  \n",
       "2  2012-12-13  \n",
       "3  2012-12-13  \n",
       "4  2012-12-13  "
      ]
     },
     "execution_count": 3,
     "metadata": {},
     "output_type": "execute_result"
    }
   ],
   "source": [
    "df3 = df2.rename(index=str, columns={1: \"ID\", 2: \"Text\", 5: \"Date\"})\n",
    "\n",
    "df3.head()"
   ]
  },
  {
   "cell_type": "code",
   "execution_count": 4,
   "metadata": {},
   "outputs": [
    {
     "data": {
      "text/html": [
       "<div>\n",
       "<style>\n",
       "    .dataframe thead tr:only-child th {\n",
       "        text-align: right;\n",
       "    }\n",
       "\n",
       "    .dataframe thead th {\n",
       "        text-align: left;\n",
       "    }\n",
       "\n",
       "    .dataframe tbody tr th {\n",
       "        vertical-align: top;\n",
       "    }\n",
       "</style>\n",
       "<table border=\"1\" class=\"dataframe\">\n",
       "  <thead>\n",
       "    <tr style=\"text-align: right;\">\n",
       "      <th></th>\n",
       "      <th>TweetID</th>\n",
       "      <th>Intent</th>\n",
       "      <th>Date</th>\n",
       "      <th>City</th>\n",
       "      <th>County</th>\n",
       "      <th>State</th>\n",
       "      <th>Country</th>\n",
       "      <th>Gender</th>\n",
       "    </tr>\n",
       "  </thead>\n",
       "  <tbody>\n",
       "    <tr>\n",
       "      <th>0</th>\n",
       "      <td>522600972476903424</td>\n",
       "      <td>no</td>\n",
       "      <td>2014-10-16</td>\n",
       "      <td>x</td>\n",
       "      <td>x</td>\n",
       "      <td>Illinois</td>\n",
       "      <td>United States</td>\n",
       "      <td>x</td>\n",
       "    </tr>\n",
       "    <tr>\n",
       "      <th>1</th>\n",
       "      <td>522645182953836544</td>\n",
       "      <td>no</td>\n",
       "      <td>2014-10-16</td>\n",
       "      <td>Los Angeles</td>\n",
       "      <td>Los Angeles County</td>\n",
       "      <td>California</td>\n",
       "      <td>United States</td>\n",
       "      <td>x</td>\n",
       "    </tr>\n",
       "    <tr>\n",
       "      <th>2</th>\n",
       "      <td>522662196984033281</td>\n",
       "      <td>yes</td>\n",
       "      <td>2014-10-16</td>\n",
       "      <td>x</td>\n",
       "      <td>x</td>\n",
       "      <td>x</td>\n",
       "      <td>x</td>\n",
       "      <td>x</td>\n",
       "    </tr>\n",
       "    <tr>\n",
       "      <th>3</th>\n",
       "      <td>522673895745536000</td>\n",
       "      <td>no</td>\n",
       "      <td>2014-10-16</td>\n",
       "      <td>Rochester</td>\n",
       "      <td>Monroe County</td>\n",
       "      <td>New York</td>\n",
       "      <td>United States</td>\n",
       "      <td>x</td>\n",
       "    </tr>\n",
       "    <tr>\n",
       "      <th>4</th>\n",
       "      <td>522740864758468608</td>\n",
       "      <td>no</td>\n",
       "      <td>2014-10-16</td>\n",
       "      <td>Detroit</td>\n",
       "      <td>Wayne County</td>\n",
       "      <td>Michigan</td>\n",
       "      <td>United States</td>\n",
       "      <td>x</td>\n",
       "    </tr>\n",
       "  </tbody>\n",
       "</table>\n",
       "</div>"
      ],
      "text/plain": [
       "              TweetID Intent        Date         City              County  \\\n",
       "0  522600972476903424     no  2014-10-16            x                   x   \n",
       "1  522645182953836544     no  2014-10-16  Los Angeles  Los Angeles County   \n",
       "2  522662196984033281    yes  2014-10-16            x                   x   \n",
       "3  522673895745536000     no  2014-10-16    Rochester       Monroe County   \n",
       "4  522740864758468608     no  2014-10-16      Detroit        Wayne County   \n",
       "\n",
       "        State        Country Gender  \n",
       "0    Illinois  United States      x  \n",
       "1  California  United States      x  \n",
       "2           x              x      x  \n",
       "3    New York  United States      x  \n",
       "4    Michigan  United States      x  "
      ]
     },
     "execution_count": 4,
     "metadata": {},
     "output_type": "execute_result"
    }
   ],
   "source": [
    "df4 = pd.read_table('~/Downloads/INFO_4604/training_tweets_meta.tsv', sep='\\t', header=0)\n",
    "\n",
    "df4.head()"
   ]
  },
  {
   "cell_type": "code",
   "execution_count": 5,
   "metadata": {},
   "outputs": [
    {
     "data": {
      "text/html": [
       "<div>\n",
       "<style>\n",
       "    .dataframe thead tr:only-child th {\n",
       "        text-align: right;\n",
       "    }\n",
       "\n",
       "    .dataframe thead th {\n",
       "        text-align: left;\n",
       "    }\n",
       "\n",
       "    .dataframe tbody tr th {\n",
       "        vertical-align: top;\n",
       "    }\n",
       "</style>\n",
       "<table border=\"1\" class=\"dataframe\">\n",
       "  <thead>\n",
       "    <tr style=\"text-align: right;\">\n",
       "      <th></th>\n",
       "      <th>TweetID</th>\n",
       "      <th>Intent</th>\n",
       "      <th>Date_x</th>\n",
       "      <th>City</th>\n",
       "      <th>County</th>\n",
       "      <th>State</th>\n",
       "      <th>Country</th>\n",
       "      <th>Gender</th>\n",
       "      <th>ID</th>\n",
       "      <th>Text</th>\n",
       "      <th>Date_y</th>\n",
       "    </tr>\n",
       "  </thead>\n",
       "  <tbody>\n",
       "    <tr>\n",
       "      <th>0</th>\n",
       "      <td>5.226010e+17</td>\n",
       "      <td>no</td>\n",
       "      <td>2014-10-16</td>\n",
       "      <td>x</td>\n",
       "      <td>x</td>\n",
       "      <td>Illinois</td>\n",
       "      <td>United States</td>\n",
       "      <td>x</td>\n",
       "      <td>5.226010e+17</td>\n",
       "      <td>MedSpring's new River North clinic to offer fr...</td>\n",
       "      <td>2014-10-16</td>\n",
       "    </tr>\n",
       "    <tr>\n",
       "      <th>1</th>\n",
       "      <td>5.226452e+17</td>\n",
       "      <td>no</td>\n",
       "      <td>2014-10-16</td>\n",
       "      <td>Los Angeles</td>\n",
       "      <td>Los Angeles County</td>\n",
       "      <td>California</td>\n",
       "      <td>United States</td>\n",
       "      <td>x</td>\n",
       "      <td>5.226452e+17</td>\n",
       "      <td>Jk. Flu shots be saving lives but they're anno...</td>\n",
       "      <td>2014-10-16</td>\n",
       "    </tr>\n",
       "    <tr>\n",
       "      <th>2</th>\n",
       "      <td>5.226622e+17</td>\n",
       "      <td>yes</td>\n",
       "      <td>2014-10-16</td>\n",
       "      <td>x</td>\n",
       "      <td>x</td>\n",
       "      <td>x</td>\n",
       "      <td>x</td>\n",
       "      <td>x</td>\n",
       "      <td>5.226622e+17</td>\n",
       "      <td>i will get the flu shot anyway, not cause ebol...</td>\n",
       "      <td>2014-10-16</td>\n",
       "    </tr>\n",
       "    <tr>\n",
       "      <th>3</th>\n",
       "      <td>5.226739e+17</td>\n",
       "      <td>no</td>\n",
       "      <td>2014-10-16</td>\n",
       "      <td>Rochester</td>\n",
       "      <td>Monroe County</td>\n",
       "      <td>New York</td>\n",
       "      <td>United States</td>\n",
       "      <td>x</td>\n",
       "      <td>5.226739e+17</td>\n",
       "      <td>Speaking of flu shots, I found out I work with...</td>\n",
       "      <td>2014-10-16</td>\n",
       "    </tr>\n",
       "    <tr>\n",
       "      <th>4</th>\n",
       "      <td>5.227409e+17</td>\n",
       "      <td>no</td>\n",
       "      <td>2014-10-16</td>\n",
       "      <td>Detroit</td>\n",
       "      <td>Wayne County</td>\n",
       "      <td>Michigan</td>\n",
       "      <td>United States</td>\n",
       "      <td>x</td>\n",
       "      <td>5.227409e+17</td>\n",
       "      <td>Who smiles for a flu shot? WWj producer Terri ...</td>\n",
       "      <td>2014-10-16</td>\n",
       "    </tr>\n",
       "  </tbody>\n",
       "</table>\n",
       "</div>"
      ],
      "text/plain": [
       "        TweetID Intent      Date_x         City              County  \\\n",
       "0  5.226010e+17     no  2014-10-16            x                   x   \n",
       "1  5.226452e+17     no  2014-10-16  Los Angeles  Los Angeles County   \n",
       "2  5.226622e+17    yes  2014-10-16            x                   x   \n",
       "3  5.226739e+17     no  2014-10-16    Rochester       Monroe County   \n",
       "4  5.227409e+17     no  2014-10-16      Detroit        Wayne County   \n",
       "\n",
       "        State        Country Gender            ID  \\\n",
       "0    Illinois  United States      x  5.226010e+17   \n",
       "1  California  United States      x  5.226452e+17   \n",
       "2           x              x      x  5.226622e+17   \n",
       "3    New York  United States      x  5.226739e+17   \n",
       "4    Michigan  United States      x  5.227409e+17   \n",
       "\n",
       "                                                Text      Date_y  \n",
       "0  MedSpring's new River North clinic to offer fr...  2014-10-16  \n",
       "1  Jk. Flu shots be saving lives but they're anno...  2014-10-16  \n",
       "2  i will get the flu shot anyway, not cause ebol...  2014-10-16  \n",
       "3  Speaking of flu shots, I found out I work with...  2014-10-16  \n",
       "4  Who smiles for a flu shot? WWj producer Terri ...  2014-10-16  "
      ]
     },
     "execution_count": 5,
     "metadata": {},
     "output_type": "execute_result"
    }
   ],
   "source": [
    "df5 = pd.merge(df4,df3,left_on='TweetID',right_on='ID',how='outer')\n",
    "\n",
    "df5.head()"
   ]
  },
  {
   "cell_type": "code",
   "execution_count": 6,
   "metadata": {},
   "outputs": [
    {
     "data": {
      "text/html": [
       "<div>\n",
       "<style>\n",
       "    .dataframe thead tr:only-child th {\n",
       "        text-align: right;\n",
       "    }\n",
       "\n",
       "    .dataframe thead th {\n",
       "        text-align: left;\n",
       "    }\n",
       "\n",
       "    .dataframe tbody tr th {\n",
       "        vertical-align: top;\n",
       "    }\n",
       "</style>\n",
       "<table border=\"1\" class=\"dataframe\">\n",
       "  <thead>\n",
       "    <tr style=\"text-align: right;\">\n",
       "      <th></th>\n",
       "      <th>ID</th>\n",
       "      <th>Text</th>\n",
       "      <th>Illness</th>\n",
       "      <th>Date</th>\n",
       "    </tr>\n",
       "  </thead>\n",
       "  <tbody>\n",
       "    <tr>\n",
       "      <th>0</th>\n",
       "      <td>5.226010e+17</td>\n",
       "      <td>MedSpring's new River North clinic to offer fr...</td>\n",
       "      <td>no</td>\n",
       "      <td>2014-10-16</td>\n",
       "    </tr>\n",
       "    <tr>\n",
       "      <th>1</th>\n",
       "      <td>5.226452e+17</td>\n",
       "      <td>Jk. Flu shots be saving lives but they're anno...</td>\n",
       "      <td>no</td>\n",
       "      <td>2014-10-16</td>\n",
       "    </tr>\n",
       "    <tr>\n",
       "      <th>2</th>\n",
       "      <td>5.226622e+17</td>\n",
       "      <td>i will get the flu shot anyway, not cause ebol...</td>\n",
       "      <td>yes</td>\n",
       "      <td>2014-10-16</td>\n",
       "    </tr>\n",
       "    <tr>\n",
       "      <th>3</th>\n",
       "      <td>5.226739e+17</td>\n",
       "      <td>Speaking of flu shots, I found out I work with...</td>\n",
       "      <td>no</td>\n",
       "      <td>2014-10-16</td>\n",
       "    </tr>\n",
       "    <tr>\n",
       "      <th>4</th>\n",
       "      <td>5.227409e+17</td>\n",
       "      <td>Who smiles for a flu shot? WWj producer Terri ...</td>\n",
       "      <td>no</td>\n",
       "      <td>2014-10-16</td>\n",
       "    </tr>\n",
       "  </tbody>\n",
       "</table>\n",
       "</div>"
      ],
      "text/plain": [
       "             ID                                               Text Illness  \\\n",
       "0  5.226010e+17  MedSpring's new River North clinic to offer fr...      no   \n",
       "1  5.226452e+17  Jk. Flu shots be saving lives but they're anno...      no   \n",
       "2  5.226622e+17  i will get the flu shot anyway, not cause ebol...     yes   \n",
       "3  5.226739e+17  Speaking of flu shots, I found out I work with...      no   \n",
       "4  5.227409e+17  Who smiles for a flu shot? WWj producer Terri ...      no   \n",
       "\n",
       "         Date  \n",
       "0  2014-10-16  \n",
       "1  2014-10-16  \n",
       "2  2014-10-16  \n",
       "3  2014-10-16  \n",
       "4  2014-10-16  "
      ]
     },
     "execution_count": 6,
     "metadata": {},
     "output_type": "execute_result"
    }
   ],
   "source": [
    "df6 = df5.loc[:,['ID','Text','Intent','Date_x']]\n",
    "df7 = df6.rename(index=str, columns={\"Intent\": \"Illness\",'Date_x':'Date'})\n",
    "\n",
    "df7.head()"
   ]
  },
  {
   "cell_type": "code",
   "execution_count": 7,
   "metadata": {},
   "outputs": [
    {
     "data": {
      "text/html": [
       "<div>\n",
       "<style>\n",
       "    .dataframe thead tr:only-child th {\n",
       "        text-align: right;\n",
       "    }\n",
       "\n",
       "    .dataframe thead th {\n",
       "        text-align: left;\n",
       "    }\n",
       "\n",
       "    .dataframe tbody tr th {\n",
       "        vertical-align: top;\n",
       "    }\n",
       "</style>\n",
       "<table border=\"1\" class=\"dataframe\">\n",
       "  <thead>\n",
       "    <tr style=\"text-align: right;\">\n",
       "      <th></th>\n",
       "      <th>ID</th>\n",
       "      <th>Text</th>\n",
       "      <th>Illness</th>\n",
       "      <th>Date</th>\n",
       "    </tr>\n",
       "  </thead>\n",
       "  <tbody>\n",
       "    <tr>\n",
       "      <th>0</th>\n",
       "      <td>5.226010e+17</td>\n",
       "      <td>MedSpring's new River North clinic to offer fr...</td>\n",
       "      <td>0</td>\n",
       "      <td>2014-10-16</td>\n",
       "    </tr>\n",
       "    <tr>\n",
       "      <th>1</th>\n",
       "      <td>5.226452e+17</td>\n",
       "      <td>Jk. Flu shots be saving lives but they're anno...</td>\n",
       "      <td>0</td>\n",
       "      <td>2014-10-16</td>\n",
       "    </tr>\n",
       "    <tr>\n",
       "      <th>2</th>\n",
       "      <td>5.226622e+17</td>\n",
       "      <td>i will get the flu shot anyway, not cause ebol...</td>\n",
       "      <td>1</td>\n",
       "      <td>2014-10-16</td>\n",
       "    </tr>\n",
       "    <tr>\n",
       "      <th>3</th>\n",
       "      <td>5.226739e+17</td>\n",
       "      <td>Speaking of flu shots, I found out I work with...</td>\n",
       "      <td>0</td>\n",
       "      <td>2014-10-16</td>\n",
       "    </tr>\n",
       "    <tr>\n",
       "      <th>4</th>\n",
       "      <td>5.227409e+17</td>\n",
       "      <td>Who smiles for a flu shot? WWj producer Terri ...</td>\n",
       "      <td>0</td>\n",
       "      <td>2014-10-16</td>\n",
       "    </tr>\n",
       "  </tbody>\n",
       "</table>\n",
       "</div>"
      ],
      "text/plain": [
       "             ID                                               Text Illness  \\\n",
       "0  5.226010e+17  MedSpring's new River North clinic to offer fr...       0   \n",
       "1  5.226452e+17  Jk. Flu shots be saving lives but they're anno...       0   \n",
       "2  5.226622e+17  i will get the flu shot anyway, not cause ebol...       1   \n",
       "3  5.226739e+17  Speaking of flu shots, I found out I work with...       0   \n",
       "4  5.227409e+17  Who smiles for a flu shot? WWj producer Terri ...       0   \n",
       "\n",
       "         Date  \n",
       "0  2014-10-16  \n",
       "1  2014-10-16  \n",
       "2  2014-10-16  \n",
       "3  2014-10-16  \n",
       "4  2014-10-16  "
      ]
     },
     "execution_count": 7,
     "metadata": {},
     "output_type": "execute_result"
    }
   ],
   "source": [
    "df7.replace('no', '0', inplace = True)\n",
    "df7.replace('yes', '1', inplace = True)\n",
    "        \n",
    "df7.head()"
   ]
  },
  {
   "cell_type": "code",
   "execution_count": 8,
   "metadata": {
    "collapsed": true
   },
   "outputs": [],
   "source": [
    "df7 = df7.dropna()"
   ]
  },
  {
   "cell_type": "code",
   "execution_count": 9,
   "metadata": {},
   "outputs": [
    {
     "data": {
      "text/plain": [
       "Counter({'2013': 3086, '2014': 3529, '2015': 2550, '2016': 550})"
      ]
     },
     "execution_count": 9,
     "metadata": {},
     "output_type": "execute_result"
    }
   ],
   "source": [
    "from collections import Counter\n",
    "import re\n",
    "\n",
    "year_i = re.compile('([2][\\d][\\d][\\d])')\n",
    "\n",
    "years = Counter()\n",
    "\n",
    "for index, row in df7.iterrows():\n",
    "    year_s = row['Date']\n",
    "    y = year_i.search(year_s)\n",
    "    years[y.group()] += 1\n",
    "    \n",
    "years"
   ]
  },
  {
   "cell_type": "code",
   "execution_count": 10,
   "metadata": {},
   "outputs": [
    {
     "data": {
      "text/html": [
       "<div>\n",
       "<style>\n",
       "    .dataframe thead tr:only-child th {\n",
       "        text-align: right;\n",
       "    }\n",
       "\n",
       "    .dataframe thead th {\n",
       "        text-align: left;\n",
       "    }\n",
       "\n",
       "    .dataframe tbody tr th {\n",
       "        vertical-align: top;\n",
       "    }\n",
       "</style>\n",
       "<table border=\"1\" class=\"dataframe\">\n",
       "  <thead>\n",
       "    <tr style=\"text-align: right;\">\n",
       "      <th></th>\n",
       "      <th>ID</th>\n",
       "      <th>Text</th>\n",
       "      <th>Illness</th>\n",
       "      <th>Date</th>\n",
       "    </tr>\n",
       "  </thead>\n",
       "  <tbody>\n",
       "    <tr>\n",
       "      <th>0</th>\n",
       "      <td>5.226010e+17</td>\n",
       "      <td>MedSpring's new River North clinic to offer fr...</td>\n",
       "      <td>0</td>\n",
       "      <td>2014</td>\n",
       "    </tr>\n",
       "    <tr>\n",
       "      <th>1</th>\n",
       "      <td>5.226452e+17</td>\n",
       "      <td>Jk. Flu shots be saving lives but they're anno...</td>\n",
       "      <td>0</td>\n",
       "      <td>2014</td>\n",
       "    </tr>\n",
       "    <tr>\n",
       "      <th>2</th>\n",
       "      <td>5.226622e+17</td>\n",
       "      <td>i will get the flu shot anyway, not cause ebol...</td>\n",
       "      <td>1</td>\n",
       "      <td>2014</td>\n",
       "    </tr>\n",
       "    <tr>\n",
       "      <th>3</th>\n",
       "      <td>5.226739e+17</td>\n",
       "      <td>Speaking of flu shots, I found out I work with...</td>\n",
       "      <td>0</td>\n",
       "      <td>2014</td>\n",
       "    </tr>\n",
       "    <tr>\n",
       "      <th>4</th>\n",
       "      <td>5.227409e+17</td>\n",
       "      <td>Who smiles for a flu shot? WWj producer Terri ...</td>\n",
       "      <td>0</td>\n",
       "      <td>2014</td>\n",
       "    </tr>\n",
       "  </tbody>\n",
       "</table>\n",
       "</div>"
      ],
      "text/plain": [
       "             ID                                               Text Illness  \\\n",
       "0  5.226010e+17  MedSpring's new River North clinic to offer fr...       0   \n",
       "1  5.226452e+17  Jk. Flu shots be saving lives but they're anno...       0   \n",
       "2  5.226622e+17  i will get the flu shot anyway, not cause ebol...       1   \n",
       "3  5.226739e+17  Speaking of flu shots, I found out I work with...       0   \n",
       "4  5.227409e+17  Who smiles for a flu shot? WWj producer Terri ...       0   \n",
       "\n",
       "   Date  \n",
       "0  2014  \n",
       "1  2014  \n",
       "2  2014  \n",
       "3  2014  \n",
       "4  2014  "
      ]
     },
     "execution_count": 10,
     "metadata": {},
     "output_type": "execute_result"
    }
   ],
   "source": [
    "year_i2 = re.compile('([2][\\d][\\d][\\d]).*')\n",
    "\n",
    "for index, row in df7.iterrows():\n",
    "    y = year_i.search(row['Date']).group()\n",
    "    df7.loc[index,'Date'] = year_i2.sub(y,df7.loc[index,'Date'])\n",
    "    \n",
    "df7.head()"
   ]
  },
  {
   "cell_type": "code",
   "execution_count": 11,
   "metadata": {},
   "outputs": [
    {
     "data": {
      "text/html": [
       "<div>\n",
       "<style>\n",
       "    .dataframe thead tr:only-child th {\n",
       "        text-align: right;\n",
       "    }\n",
       "\n",
       "    .dataframe thead th {\n",
       "        text-align: left;\n",
       "    }\n",
       "\n",
       "    .dataframe tbody tr th {\n",
       "        vertical-align: top;\n",
       "    }\n",
       "</style>\n",
       "<table border=\"1\" class=\"dataframe\">\n",
       "  <thead>\n",
       "    <tr style=\"text-align: right;\">\n",
       "      <th></th>\n",
       "      <th>ID</th>\n",
       "      <th>Text</th>\n",
       "      <th>Illness</th>\n",
       "      <th>Date</th>\n",
       "    </tr>\n",
       "  </thead>\n",
       "  <tbody>\n",
       "    <tr>\n",
       "      <th>0</th>\n",
       "      <td>5.226010e+17</td>\n",
       "      <td>MedSpring's new River North clinic to offer fr...</td>\n",
       "      <td>0</td>\n",
       "      <td>2014</td>\n",
       "    </tr>\n",
       "    <tr>\n",
       "      <th>1</th>\n",
       "      <td>5.226452e+17</td>\n",
       "      <td>Jk. Flu shots be saving lives but they're anno...</td>\n",
       "      <td>0</td>\n",
       "      <td>2014</td>\n",
       "    </tr>\n",
       "    <tr>\n",
       "      <th>2</th>\n",
       "      <td>5.226622e+17</td>\n",
       "      <td>i will get the flu shot anyway, not cause ebol...</td>\n",
       "      <td>1</td>\n",
       "      <td>2014</td>\n",
       "    </tr>\n",
       "    <tr>\n",
       "      <th>3</th>\n",
       "      <td>5.226739e+17</td>\n",
       "      <td>Speaking of flu shots, I found out I work with...</td>\n",
       "      <td>0</td>\n",
       "      <td>2014</td>\n",
       "    </tr>\n",
       "    <tr>\n",
       "      <th>4</th>\n",
       "      <td>5.227409e+17</td>\n",
       "      <td>Who smiles for a flu shot? WWj producer Terri ...</td>\n",
       "      <td>0</td>\n",
       "      <td>2014</td>\n",
       "    </tr>\n",
       "  </tbody>\n",
       "</table>\n",
       "</div>"
      ],
      "text/plain": [
       "             ID                                               Text Illness  \\\n",
       "0  5.226010e+17  MedSpring's new River North clinic to offer fr...       0   \n",
       "1  5.226452e+17  Jk. Flu shots be saving lives but they're anno...       0   \n",
       "2  5.226622e+17  i will get the flu shot anyway, not cause ebol...       1   \n",
       "3  5.226739e+17  Speaking of flu shots, I found out I work with...       0   \n",
       "4  5.227409e+17  Who smiles for a flu shot? WWj producer Terri ...       0   \n",
       "\n",
       "   Date  \n",
       "0  2014  \n",
       "1  2014  \n",
       "2  2014  \n",
       "3  2014  \n",
       "4  2014  "
      ]
     },
     "execution_count": 11,
     "metadata": {},
     "output_type": "execute_result"
    }
   ],
   "source": [
    "r_at = re.compile('@[\\S]+')\n",
    "\n",
    "for index, row in df7.iterrows():\n",
    "    df7.loc[index,'Text'] = r_at.sub('USER_',df7.loc[index,'Text'])\n",
    "        \n",
    "df7.head()"
   ]
  },
  {
   "cell_type": "code",
   "execution_count": 12,
   "metadata": {
    "collapsed": true
   },
   "outputs": [],
   "source": [
    "r = re.compile('(http[s]*://[\\S^\\.]+(?:\\.[\\S^\\.\\)]+)+)')\n",
    "\n",
    "for index, row in df7.iterrows():\n",
    "    df7.loc[index,'Text'] = r.sub('URL_',df7.loc[index,'Text'])\n",
    "    rr = re.compile('&amp;')\n",
    "    df7.loc[index,'Text'] = rr.sub('and',df7.loc[index,'Text'])"
   ]
  },
  {
   "cell_type": "code",
   "execution_count": 13,
   "metadata": {
    "collapsed": true
   },
   "outputs": [],
   "source": [
    "import re\n",
    "from collections import Counter\n",
    "\n",
    "def ngrams(tokens, n):\n",
    "    output = []\n",
    "    for i in range(n-1, len(tokens)):\n",
    "        ngram = ' '.join(tokens[i-n+1:i+1])\n",
    "        output.append(ngram)\n",
    "    return output\n",
    "\n",
    "def skipgrams(tokens, n):\n",
    "    output = []\n",
    "    for i in range(n-1, len(tokens)):\n",
    "        str1 = ''\n",
    "        for j in range(n-2):\n",
    "            str1 = str1+' * '\n",
    "        skipgram = str(tokens[i-n+1])+str1+str(tokens[i])\n",
    "        output.append(skipgram)\n",
    "    return output\n",
    "\n",
    "import itertools\n",
    "\n",
    "def pairs(words):\n",
    "    ret = itertools.combinations(words,2)\n",
    "    return ret\n",
    "   \n",
    "import nltk\n",
    "\n",
    "def parts_of_speech(words):\n",
    "    tagged = []\n",
    "    \n",
    "    try:\n",
    "        tagged = nltk.pos_tag(words)\n",
    "        return(tagged)\n",
    "        \n",
    "    except Exception as e:\n",
    "        print(e)"
   ]
  },
  {
   "cell_type": "code",
   "execution_count": 14,
   "metadata": {
    "collapsed": true
   },
   "outputs": [],
   "source": [
    "def features(text, ngram_range=(1,3)):\n",
    "    text = text.lower()      # make the string lowercase\n",
    "    text = re.sub(r'(.)\\1+', r'\\1\\1', text)     # remove consecutive characters that are repeated more than twice\n",
    "    \n",
    "    features_in_text = []   # running list of all features in this instance (can be repeated)\n",
    "    \n",
    "    # treat alphanumeric characters as word tokens (removing anything else),\n",
    "    # and extract all n-grams of length n specified by ngram_range\n",
    "    \n",
    "    text_alphanum = re.sub('[^a-z0-9]', ' ', text)\n",
    "    for n in range(ngram_range[0], ngram_range[1]+1):\n",
    "        features_in_text += ngrams(text_alphanum.split(), n)\n",
    "        #remove sentiment\n",
    "    \n",
    "    for n in range(3,5):\n",
    "        features_in_text += skipgrams(text_alphanum.split(), n)\n",
    "      \n",
    "    features_in_text += str(pairs(text_alphanum.split()))\n",
    "    features_in_text += str(parts_of_speech(text_alphanum.split()))\n",
    "    \n",
    "    \n",
    "    text_punc = re.sub('[a-z0-9]', ' ', text)\n",
    "    features_in_text += ngrams(text_punc.split(), 1)\n",
    "    \n",
    "   \n",
    "    # 'Counter' converts a list into a dictionary whose keys are the list elements \n",
    "    #  and the values are the number of times each element appeared in the list\n",
    "    \n",
    "    return Counter(features_in_text)"
   ]
  },
  {
   "cell_type": "code",
   "execution_count": 17,
   "metadata": {},
   "outputs": [],
   "source": [
    "def features_domain(text, df, factor, ngram_range=(1,3)):\n",
    "    text = text.lower()      # make the string lowercase\n",
    "    text = re.sub(r'(.)\\1+', r'\\1\\1', text)     # remove consecutive characters that are repeated more than twice\n",
    "    \n",
    "    features_in_text = []   # running list of all features in this instance (can be repeated)\n",
    "    \n",
    "    # treat alphanumeric characters as word tokens (removing anything else),\n",
    "    # and extract all n-grams of length n specified by ngram_range\n",
    "    \n",
    "    text_alphanum = re.sub('[^a-z0-9]', ' ', text)\n",
    "    for n in range(ngram_range[0], ngram_range[1]+1):\n",
    "        features_in_text += ngrams(text_alphanum.split(), n)\n",
    "        #remove sentiment\n",
    "    \n",
    "    for n in range(3,5):\n",
    "        features_in_text += skipgrams(text_alphanum.split(), n)\n",
    "      \n",
    "    features_in_text += str(pairs(text_alphanum.split()))\n",
    "    features_in_text += str(parts_of_speech(text_alphanum.split()))\n",
    "    \n",
    "    \n",
    "    text_punc = re.sub('[a-z0-9]', ' ', text)\n",
    "    features_in_text += ngrams(text_punc.split(), 1)\n",
    "    \n",
    "    d_features = []\n",
    "    row = df[df['Text']==text]\n",
    "    \n",
    "    year = str(row['Date'])\n",
    "    \n",
    "    for feature in features_in_text:\n",
    "        d_feature = feature + \"___\" + year\n",
    "        d_features += d_feature\n",
    "        \n",
    "    d_counts = Counter(d_features)\n",
    "    \n",
    "    for d_feature in d_counts:\n",
    "        count = d_counts[d_feature]\n",
    "        count = float(count) * factor\n",
    "        d_counts[d_feature] = count\n",
    "    \n",
    "    features_in_text_counts = Counter(features_in_text)\n",
    "    \n",
    "    return d_counts + features_in_text_counts"
   ]
  },
  {
   "cell_type": "code",
   "execution_count": 19,
   "metadata": {},
   "outputs": [],
   "source": [
    "from sklearn.model_selection import train_test_split\n",
    "from sklearn.model_selection import cross_val_score\n",
    "\n",
    "text_train, text_test, Y_train, Y_test = train_test_split(df7['Text'], df7['Illness'], test_size=0.4, random_state=0)"
   ]
  },
  {
   "cell_type": "code",
   "execution_count": 20,
   "metadata": {
    "collapsed": true
   },
   "outputs": [],
   "source": [
    "from sklearn.feature_extraction import DictVectorizer\n",
    "\n",
    "vect = DictVectorizer()\n",
    "X_train = vect.fit_transform(features(d, ngram_range=(1,3)) for d in text_train)"
   ]
  },
  {
   "cell_type": "code",
   "execution_count": 21,
   "metadata": {},
   "outputs": [
    {
     "name": "stdout",
     "output_type": "stream",
     "text": [
      "Best parameter settings: {'C': 10.0}\n",
      "Validation accuracy: 0.883685\n"
     ]
    }
   ],
   "source": [
    "from sklearn.linear_model import LogisticRegression\n",
    "from sklearn.model_selection import GridSearchCV, cross_val_predict\n",
    "from sklearn.metrics import accuracy_score\n",
    "from sklearn.metrics import f1_score, precision_recall_fscore_support\n",
    "\n",
    "# this defines the classifier we will use -- don't change this variable\n",
    "\n",
    "base_classifier = LogisticRegression(multi_class='multinomial', solver='lbfgs', random_state=123)\n",
    "\n",
    "# these are the C values we will compare -- don't change this variable\n",
    "\n",
    "params = [{'C': [0.01, 0.1, 0.5, 1.0, 2.5, 5.0, 10.0, 50.0, 100.0]}]\n",
    "\n",
    "# this performs 5-fold cross-validation with the above classifier and parameter options\n",
    "\n",
    "gs_classifier = GridSearchCV(base_classifier, params, cv=5)\n",
    "gs_classifier.fit(X_train, Y_train)\n",
    "\n",
    "print(\"Best parameter settings:\", gs_classifier.best_params_)\n",
    "print(\"Validation accuracy: %0.6f\" % gs_classifier.best_score_)"
   ]
  },
  {
   "cell_type": "code",
   "execution_count": 22,
   "metadata": {},
   "outputs": [
    {
     "name": "stdout",
     "output_type": "stream",
     "text": [
      "Validation F1:\n",
      "0.8837339295695918\n",
      "Test F1:\n",
      "0.7965141612200435\n"
     ]
    }
   ],
   "source": [
    "X_test = vect.transform(features(d, ngram_range=(1,3)) for d in text_test)\n",
    "\n",
    "print(\"Validation F1:\")\n",
    "print(f1_score(Y_train, gs_classifier.predict(X_train), pos_label='1'))\n",
    "print(\"Test F1:\")\n",
    "print(f1_score(Y_test, gs_classifier.predict(X_test), pos_label='1'))"
   ]
  },
  {
   "cell_type": "code",
   "execution_count": 26,
   "metadata": {
    "collapsed": true
   },
   "outputs": [],
   "source": [
    "vect = DictVectorizer()\n",
    "X_train = vect.fit_transform(features_domain(d, df7, 0.1, ngram_range=(1,3)) for d in text_train)"
   ]
  },
  {
   "cell_type": "code",
   "execution_count": 27,
   "metadata": {},
   "outputs": [
    {
     "name": "stdout",
     "output_type": "stream",
     "text": [
      "Best parameter settings: {'C': 100.0}\n",
      "Validation accuracy: 0.858123\n"
     ]
    }
   ],
   "source": [
    "base_classifier = LogisticRegression(multi_class='multinomial', solver='lbfgs', random_state=123)\n",
    "\n",
    "# these are the C values we will compare -- don't change this variable\n",
    "\n",
    "params = [{'C': [0.01, 0.1, 0.5, 1.0, 2.5, 5.0, 10.0, 50.0, 100.0]}]\n",
    "\n",
    "# this performs 5-fold cross-validation with the above classifier and parameter options\n",
    "\n",
    "gs_classifier = GridSearchCV(base_classifier, params, cv=5)\n",
    "gs_classifier.fit(X_train, Y_train)\n",
    "\n",
    "print(\"Best parameter settings:\", gs_classifier.best_params_)\n",
    "print(\"Validation accuracy: %0.6f\" % gs_classifier.best_score_)"
   ]
  },
  {
   "cell_type": "code",
   "execution_count": 29,
   "metadata": {},
   "outputs": [
    {
     "name": "stdout",
     "output_type": "stream",
     "text": [
      "Validation F1:\n",
      "0.7809633027522935\n",
      "Test F1:\n",
      "0.7526501766784452\n"
     ]
    }
   ],
   "source": [
    "X_test = vect.transform(features_domain(d, df7, 0.1, ngram_range=(1,3)) for d in text_test)\n",
    "\n",
    "print(\"Validation F1:\")\n",
    "print(f1_score(Y_train, gs_classifier.predict(X_train), pos_label='1'))\n",
    "print(\"Test F1:\")\n",
    "print(f1_score(Y_test, gs_classifier.predict(X_test), pos_label='1'))"
   ]
  },
  {
   "cell_type": "code",
   "execution_count": 37,
   "metadata": {},
   "outputs": [],
   "source": [
    "vect = DictVectorizer()\n",
    "X_train = vect.fit_transform(features_domain(d, df7, 1.0, ngram_range=(1,3)) for d in text_train)"
   ]
  },
  {
   "cell_type": "code",
   "execution_count": 38,
   "metadata": {},
   "outputs": [
    {
     "name": "stdout",
     "output_type": "stream",
     "text": [
      "Best parameter settings: {'C': 0.01}\n",
      "Validation accuracy: 0.812489\n"
     ]
    }
   ],
   "source": [
    "base_classifier = LogisticRegression(multi_class='multinomial', solver='lbfgs', random_state=123)\n",
    "\n",
    "# these are the C values we will compare -- don't change this variable\n",
    "\n",
    "params = [{'C': [0.01, 0.1, 0.5, 1.0, 2.5, 5.0, 10.0, 50.0, 100.0]}]\n",
    "\n",
    "# this performs 5-fold cross-validation with the above classifier and parameter options\n",
    "\n",
    "gs_classifier = GridSearchCV(base_classifier, params, cv=5)\n",
    "gs_classifier.fit(X_train, Y_train)\n",
    "\n",
    "print(\"Best parameter settings:\", gs_classifier.best_params_)\n",
    "print(\"Validation accuracy: %0.6f\" % gs_classifier.best_score_)"
   ]
  },
  {
   "cell_type": "code",
   "execution_count": 39,
   "metadata": {},
   "outputs": [
    {
     "name": "stdout",
     "output_type": "stream",
     "text": [
      "Validation F1:\n",
      "0.6821345707656613\n",
      "Test F1:\n",
      "0.6566769501983252\n"
     ]
    }
   ],
   "source": [
    "X_test = vect.transform(features_domain(d, df7, 1.0, ngram_range=(1,3)) for d in text_test)\n",
    "\n",
    "print(\"Validation F1:\")\n",
    "print(f1_score(Y_train, gs_classifier.predict(X_train), pos_label='1'))\n",
    "print(\"Test F1:\")\n",
    "print(f1_score(Y_test, gs_classifier.predict(X_test), pos_label='1'))"
   ]
  },
  {
   "cell_type": "code",
   "execution_count": 40,
   "metadata": {
    "collapsed": true
   },
   "outputs": [],
   "source": [
    "vect = DictVectorizer()\n",
    "X_train = vect.fit_transform(features_domain(d, df7, 10.0, ngram_range=(1,3)) for d in text_train)"
   ]
  },
  {
   "cell_type": "code",
   "execution_count": 41,
   "metadata": {},
   "outputs": [
    {
     "name": "stdout",
     "output_type": "stream",
     "text": [
      "Best parameter settings: {'C': 100.0}\n",
      "Validation accuracy: 0.804426\n"
     ]
    }
   ],
   "source": [
    "base_classifier = LogisticRegression(multi_class='multinomial', solver='lbfgs', random_state=123)\n",
    "\n",
    "# these are the C values we will compare -- don't change this variable\n",
    "\n",
    "params = [{'C': [0.01, 0.1, 0.5, 1.0, 2.5, 5.0, 10.0, 50.0, 100.0]}]\n",
    "\n",
    "# this performs 5-fold cross-validation with the above classifier and parameter options\n",
    "\n",
    "gs_classifier = GridSearchCV(base_classifier, params, cv=5)\n",
    "gs_classifier.fit(X_train, Y_train)\n",
    "\n",
    "print(\"Best parameter settings:\", gs_classifier.best_params_)\n",
    "print(\"Validation accuracy: %0.6f\" % gs_classifier.best_score_)"
   ]
  },
  {
   "cell_type": "code",
   "execution_count": 42,
   "metadata": {},
   "outputs": [
    {
     "name": "stdout",
     "output_type": "stream",
     "text": [
      "Validation F1:\n",
      "0.6711487869044139\n",
      "Test F1:\n",
      "0.6412078152753109\n"
     ]
    }
   ],
   "source": [
    "X_test = vect.transform(features_domain(d, df7, 10.0, ngram_range=(1,3)) for d in text_test)\n",
    "\n",
    "print(\"Validation F1:\")\n",
    "print(f1_score(Y_train, gs_classifier.predict(X_train), pos_label='1'))\n",
    "print(\"Test F1:\")\n",
    "print(f1_score(Y_test, gs_classifier.predict(X_test), pos_label='1'))"
   ]
  },
  {
   "cell_type": "code",
   "execution_count": 43,
   "metadata": {
    "collapsed": true
   },
   "outputs": [],
   "source": [
    "vect = DictVectorizer()\n",
    "X_train = vect.fit_transform(features_domain(d, df7, 0.01, ngram_range=(1,3)) for d in text_train)"
   ]
  },
  {
   "cell_type": "code",
   "execution_count": 44,
   "metadata": {},
   "outputs": [
    {
     "name": "stdout",
     "output_type": "stream",
     "text": [
      "Best parameter settings: {'C': 0.1}\n",
      "Validation accuracy: 0.882827\n"
     ]
    }
   ],
   "source": [
    "base_classifier = LogisticRegression(multi_class='multinomial', solver='lbfgs', random_state=123)\n",
    "\n",
    "# these are the C values we will compare -- don't change this variable\n",
    "\n",
    "params = [{'C': [0.01, 0.1, 0.5, 1.0, 2.5, 5.0, 10.0, 50.0, 100.0]}]\n",
    "\n",
    "# this performs 5-fold cross-validation with the above classifier and parameter options\n",
    "\n",
    "gs_classifier = GridSearchCV(base_classifier, params, cv=5)\n",
    "gs_classifier.fit(X_train, Y_train)\n",
    "\n",
    "print(\"Best parameter settings:\", gs_classifier.best_params_)\n",
    "print(\"Validation accuracy: %0.6f\" % gs_classifier.best_score_)"
   ]
  },
  {
   "cell_type": "code",
   "execution_count": 45,
   "metadata": {},
   "outputs": [
    {
     "name": "stdout",
     "output_type": "stream",
     "text": [
      "Validation F1:\n",
      "0.8937376027203173\n",
      "Test F1:\n",
      "0.8001715265866209\n"
     ]
    }
   ],
   "source": [
    "X_test = vect.transform(features_domain(d, df7, 0.01, ngram_range=(1,3)) for d in text_test)\n",
    "\n",
    "print(\"Validation F1:\")\n",
    "print(f1_score(Y_train, gs_classifier.predict(X_train), pos_label='1'))\n",
    "print(\"Test F1:\")\n",
    "print(f1_score(Y_test, gs_classifier.predict(X_test), pos_label='1'))"
   ]
  },
  {
   "cell_type": "code",
   "execution_count": 46,
   "metadata": {
    "collapsed": true
   },
   "outputs": [],
   "source": [
    "vect = DictVectorizer()\n",
    "X_train = vect.fit_transform(features_domain(d, df7, 0.001, ngram_range=(1,3)) for d in text_train)"
   ]
  },
  {
   "cell_type": "code",
   "execution_count": 47,
   "metadata": {},
   "outputs": [
    {
     "name": "stdout",
     "output_type": "stream",
     "text": [
      "Best parameter settings: {'C': 0.5}\n",
      "Validation accuracy: 0.886087\n"
     ]
    }
   ],
   "source": [
    "base_classifier = LogisticRegression(multi_class='multinomial', solver='lbfgs', random_state=123)\n",
    "\n",
    "# these are the C values we will compare -- don't change this variable\n",
    "\n",
    "params = [{'C': [0.01, 0.1, 0.5, 1.0, 2.5, 5.0, 10.0, 50.0, 100.0]}]\n",
    "\n",
    "# this performs 5-fold cross-validation with the above classifier and parameter options\n",
    "\n",
    "gs_classifier = GridSearchCV(base_classifier, params, cv=5)\n",
    "gs_classifier.fit(X_train, Y_train)\n",
    "\n",
    "print(\"Best parameter settings:\", gs_classifier.best_params_)\n",
    "print(\"Validation accuracy: %0.6f\" % gs_classifier.best_score_)"
   ]
  },
  {
   "cell_type": "code",
   "execution_count": 48,
   "metadata": {},
   "outputs": [
    {
     "name": "stdout",
     "output_type": "stream",
     "text": [
      "Validation F1:\n",
      "0.9520908335641096\n",
      "Test F1:\n",
      "0.8042826552462526\n"
     ]
    }
   ],
   "source": [
    "X_test = vect.transform(features_domain(d, df7, 0.001, ngram_range=(1,3)) for d in text_test)\n",
    "\n",
    "print(\"Validation F1:\")\n",
    "print(f1_score(Y_train, gs_classifier.predict(X_train), pos_label='1'))\n",
    "print(\"Test F1:\")\n",
    "print(f1_score(Y_test, gs_classifier.predict(X_test), pos_label='1'))"
   ]
  },
  {
   "cell_type": "code",
   "execution_count": 50,
   "metadata": {},
   "outputs": [],
   "source": [
    "vect = DictVectorizer()\n",
    "X_train = vect.fit_transform(features_domain(d, df7, 0.0001, ngram_range=(1,3)) for d in text_train)"
   ]
  },
  {
   "cell_type": "code",
   "execution_count": 51,
   "metadata": {},
   "outputs": [
    {
     "name": "stdout",
     "output_type": "stream",
     "text": [
      "Best parameter settings: {'C': 0.5}\n",
      "Validation accuracy: 0.886258\n"
     ]
    }
   ],
   "source": [
    "base_classifier = LogisticRegression(multi_class='multinomial', solver='lbfgs', random_state=123)\n",
    "\n",
    "# these are the C values we will compare -- don't change this variable\n",
    "\n",
    "params = [{'C': [0.01, 0.1, 0.5, 1.0, 2.5, 5.0, 10.0, 50.0, 100.0]}]\n",
    "\n",
    "# this performs 5-fold cross-validation with the above classifier and parameter options\n",
    "\n",
    "gs_classifier = GridSearchCV(base_classifier, params, cv=5)\n",
    "gs_classifier.fit(X_train, Y_train)\n",
    "\n",
    "print(\"Best parameter settings:\", gs_classifier.best_params_)\n",
    "print(\"Validation accuracy: %0.6f\" % gs_classifier.best_score_)"
   ]
  },
  {
   "cell_type": "code",
   "execution_count": 52,
   "metadata": {},
   "outputs": [
    {
     "name": "stdout",
     "output_type": "stream",
     "text": [
      "Validation F1:\n",
      "0.9477467514514791\n",
      "Test F1:\n",
      "0.7996567996567997\n"
     ]
    }
   ],
   "source": [
    "X_test = vect.transform(features_domain(d, df7, 0.0001, ngram_range=(1,3)) for d in text_test)\n",
    "\n",
    "print(\"Validation F1:\")\n",
    "print(f1_score(Y_train, gs_classifier.predict(X_train), pos_label='1'))\n",
    "print(\"Test F1:\")\n",
    "print(f1_score(Y_test, gs_classifier.predict(X_test), pos_label='1'))"
   ]
  },
  {
   "cell_type": "code",
   "execution_count": null,
   "metadata": {
    "collapsed": true
   },
   "outputs": [],
   "source": []
  }
 ],
 "metadata": {
  "kernelspec": {
   "display_name": "Python 3",
   "language": "python",
   "name": "python3"
  },
  "language_info": {
   "codemirror_mode": {
    "name": "ipython",
    "version": 3
   },
   "file_extension": ".py",
   "mimetype": "text/x-python",
   "name": "python",
   "nbconvert_exporter": "python",
   "pygments_lexer": "ipython3",
   "version": "3.6.3"
  }
 },
 "nbformat": 4,
 "nbformat_minor": 2
}
